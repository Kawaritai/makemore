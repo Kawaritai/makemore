{
 "cells": [
  {
   "cell_type": "markdown",
   "id": "7541dac4",
   "metadata": {},
   "source": [
    "# Makemore Part 2 — Multi-Layer Perceptron\n",
    "\n",
    "- **Problem**: The number of features (< ~100) is much smaller than the size of the vocabulary (~17,000)\n",
    "  - **Solution**: Build and train a look-up table that is shape `(num. of vocabulary, num. of features)`.\n",
    "  - It takes in a vocabulary word (mapped to index $i$) and outputs a feature vector ($C(i)$)\n",
    "  - The output layer has one logit for each possible (next) vocabulary word\n",
    "  - `num. of features` is the row dimension because... we are indexing into the table to directly return the vocabulary word _as represented by features_.\n"
   ]
  },
  {
   "cell_type": "code",
   "execution_count": null,
   "id": "31c529b0",
   "metadata": {},
   "outputs": [
    {
     "data": {
      "text/plain": [
       "['emma',\n",
       " 'olivia',\n",
       " 'ava',\n",
       " 'isabella',\n",
       " 'sophia',\n",
       " 'charlotte',\n",
       " 'mia',\n",
       " 'amelia',\n",
       " 'harper',\n",
       " 'evelyn']"
      ]
     },
     "execution_count": 231,
     "metadata": {},
     "output_type": "execute_result"
    }
   ],
   "source": [
    "# Imports\n",
    "import torch\n",
    "import torch.nn.functional as F\n",
    "import random\n",
    "import matplotlib.pyplot as plt\n",
    "import seaborn as sns\n",
    "from einops import rearrange, reduce, repeat\n",
    "%matplotlib inline\n",
    "\n",
    "# Parameters\n",
    "FILENAME = \"names.txt\"\n",
    "CONTEXT_LEN = 3\n",
    "N_FEATURES = 10\n",
    "N_HIDDEN = 200\n",
    "DOT = \".\"\n",
    "SMOOTHING = 1\n",
    "SEED = 2147483647\n",
    "\n",
    "# Matrix visualisation helper\n",
    "def plot_mtx(mtx, title):\n",
    "  mtx = mtx.detach().numpy()\n",
    "  plt.title(f\"{title} {tuple(mtx.shape)}\")\n",
    "  plt.tick_params(top=True, bottom=False, labeltop=True, labelbottom=False)\n",
    "  sns.heatmap(mtx,\n",
    "              cmap=\"RdBu\",\n",
    "              cbar=False,\n",
    "              # xticklabels=[DOT] + chars,\n",
    "              linewidths=0.5,\n",
    "              linecolor=\"black\",\n",
    "              square=True)\n",
    "\n",
    "# Retrieve the data\n",
    "with open(FILENAME, \"r\") as f:\n",
    "  words = f.read().splitlines()\n",
    "\n",
    "words[:10]"
   ]
  },
  {
   "cell_type": "code",
   "execution_count": 232,
   "id": "e14106c2",
   "metadata": {},
   "outputs": [],
   "source": [
    "# Build vocabulary\n",
    "chars = sorted(list(set(\"\".join(words))))\n",
    "\n",
    "stoi = {s: i+1 for i, s in enumerate(chars)}\n",
    "stoi[DOT] = 0\n",
    "\n",
    "itos = dict(zip(stoi.values(), stoi.keys()))\n",
    "\n",
    "N_VOCAB = len(itos)"
   ]
  },
  {
   "cell_type": "code",
   "execution_count": 233,
   "id": "f74e3cfb",
   "metadata": {},
   "outputs": [
    {
     "data": {
      "text/plain": [
       "[0, 0, 0]"
      ]
     },
     "execution_count": 233,
     "metadata": {},
     "output_type": "execute_result"
    }
   ],
   "source": [
    "[0] * 3"
   ]
  },
  {
   "cell_type": "code",
   "execution_count": 234,
   "id": "505284ae",
   "metadata": {},
   "outputs": [
    {
     "data": {
      "text/plain": [
       "(torch.Size([228146, 3]), torch.Size([228146]))"
      ]
     },
     "execution_count": 234,
     "metadata": {},
     "output_type": "execute_result"
    }
   ],
   "source": [
    "# Build the dataset\n",
    "X, Y = [], []\n",
    "for w in words:\n",
    "  # print(w)\n",
    "  context = [0] * CONTEXT_LEN\n",
    "  for ch in w + \".\":\n",
    "    ix = stoi[ch]\n",
    "    X.append(context)  # input (context; a list of idx's)\n",
    "    Y.append(ix)  # label (as index)\n",
    "    # print(\"\".join(itos[i] for i in context), \"--->\", itos[ix])\n",
    "\n",
    "    context = context[1:] + [ix]  # crop front of context; append current ix\n",
    "\n",
    "X = torch.tensor(X)\n",
    "Y = torch.tensor(Y)\n",
    "X.shape, Y.shape"
   ]
  },
  {
   "cell_type": "code",
   "execution_count": 235,
   "id": "62ac4dd6",
   "metadata": {},
   "outputs": [
    {
     "name": "stdout",
     "output_type": "stream",
     "text": [
      "torch.Size([182625, 3]) torch.Size([182625])\n",
      "torch.Size([22655, 3]) torch.Size([22655])\n",
      "torch.Size([22866, 3]) torch.Size([22866])\n"
     ]
    }
   ],
   "source": [
    "# Build the dataset in 80/10/10\n",
    "def build_dataset(words):\n",
    "  \"\"\"Maps a list of words into int tensors\"\"\"\n",
    "  # Build the dataset\n",
    "  X, Y = [], []\n",
    "  for w in words:\n",
    "    context = [0] * CONTEXT_LEN\n",
    "    for ch in w + \".\":\n",
    "      ix = stoi[ch]\n",
    "      X.append(context)  # input (context; a list of idx's)\n",
    "      Y.append(ix)  # label (as index)\n",
    "      context = context[1:] + [ix]  # crop front of context; append current ix\n",
    "\n",
    "  X = torch.tensor(X)\n",
    "  Y = torch.tensor(Y)\n",
    "  print(X.shape, Y.shape)\n",
    "  return X, Y\n",
    "\n",
    "\n",
    "random.seed(42)\n",
    "random.shuffle(words)\n",
    "n1 = int(0.8 * len(words))\n",
    "n2 = int(0.9 * len(words))\n",
    "\n",
    "Xtr, Ytr = build_dataset(words[:n1])\n",
    "Xdev, Ydev = build_dataset(words[n1:n2])\n",
    "Xte, Yte = build_dataset(words[n2:])"
   ]
  },
  {
   "cell_type": "code",
   "execution_count": 236,
   "id": "4cb0e684",
   "metadata": {},
   "outputs": [],
   "source": [
    "# Example of retrieval (lookup).\n",
    "# Indexing <=> one-hot row retrieval (most of the time)\n",
    "def retrieval_demo(X_tensor):\n",
    "  C = torch.randn((27, 2))\n",
    "  print(\"=== Single Index ===\")\n",
    "  x = 5\n",
    "  print(\"- Indexing:\", C[x])\n",
    "  print(\"- One-hot:\", F.one_hot(torch.tensor(x), num_classes=27).float() @ C)\n",
    "\n",
    "  print(\"\\n=== List ===\")\n",
    "  x = [0, 1, 2]\n",
    "  print(\"- input, shape:\", x, \"←\", tuple(torch.tensor(x).shape))\n",
    "  print(\"- Indexing:\\n\", (C[x]))\n",
    "  print(\"- One-hot:\\n\", (F.one_hot(torch.tensor(x), num_classes=27).float() @ C))\n",
    "\n",
    "  print(\"\\n=== ! Breaks with nested lists ===\")\n",
    "  x = [[0, 1, 2], [0, 0, 0]]\n",
    "  print(\"- input, shape:\", x, \"←\", tuple(torch.tensor(x).shape))\n",
    "  print(\"- Indexing:\", (C[x]).shape)\n",
    "  print(\"- One-hot:\", (F.one_hot(torch.tensor(x), num_classes=27).float() @ C).shape)\n",
    "\n",
    "  print(\"\\n====== Tensor ======\")\n",
    "  x = X_tensor\n",
    "  indexing = C[x]\n",
    "  onehot = F.one_hot(x, num_classes=27).float() @ C\n",
    "  print(\"- X.shape, C.shape:\", tuple(x.shape), tuple(C.shape))\n",
    "  print(\"- Indexing directly:\", indexing.shape)\n",
    "  print(\"- One-hot:\", onehot.shape)\n",
    "  print(\"- Equivalent elements?:\", torch.all(torch.eq(indexing, onehot)).item())\n",
    "  print(\"   - Indexing is faster and equivalent in the tensor case, here.\")\n",
    "\n",
    "# retrieval_demo(X)"
   ]
  },
  {
   "cell_type": "code",
   "execution_count": 237,
   "id": "09e5f6d2",
   "metadata": {},
   "outputs": [],
   "source": [
    "# ------------------- All together now! ----------------------------------------"
   ]
  },
  {
   "cell_type": "code",
   "execution_count": 238,
   "id": "470544d4",
   "metadata": {},
   "outputs": [
    {
     "name": "stdout",
     "output_type": "stream",
     "text": [
      "Total num. of parameters:  11897\n"
     ]
    }
   ],
   "source": [
    "g = torch.Generator().manual_seed(SEED)\n",
    "\n",
    "C = torch.randn((N_VOCAB, N_FEATURES), generator=g)\n",
    "W1 = torch.randn((CONTEXT_LEN * N_FEATURES, N_HIDDEN), generator=g)\n",
    "b1 = torch.randn(N_HIDDEN, generator=g)\n",
    "W2 = torch.randn((N_HIDDEN, N_VOCAB), generator=g)\n",
    "b2 = torch.randn(N_VOCAB, generator=g)\n",
    "\n",
    "parameters = [C, W1, b1, W2, b2]\n",
    "\n",
    "print(\"Total num. of parameters: \", sum(p.nelement() for p in parameters))\n",
    "\n",
    "for p in parameters:\n",
    "    p.requires_grad_(True)\n",
    "\n",
    "# ------- optional plots -------\n",
    "# plot_mtx(C, \"C\")\n",
    "# plot_mtx(W1, \"W1\")\n",
    "# plot_mtx(b1, \"b1\")"
   ]
  },
  {
   "cell_type": "code",
   "execution_count": 239,
   "id": "315c48e3",
   "metadata": {},
   "outputs": [],
   "source": [
    "lre = torch.linspace(-3, 0, 1000)  # between [-3, 0]\n",
    "lrs = 10**lre  # between [1e-2, 1]\n",
    "lri = []\n",
    "lossi = []"
   ]
  },
  {
   "cell_type": "code",
   "execution_count": 270,
   "id": "94e587d7",
   "metadata": {},
   "outputs": [],
   "source": [
    "LR = 1e-1\n",
    "EPOCHS = 50000\n",
    "BATCH_SIZE = 32\n",
    "\n",
    "\n",
    "for i in range(EPOCHS):\n",
    "\n",
    "  # minibatch construct:\n",
    "  # use X[ixs], Y[ixs], rather than X, Y\n",
    "  # 0:43:49 at https://youtu.be/TCH_1BHY58I?t=2649\n",
    "  # GOOD: Minibatches are computationally efficient and still transport us to desired results\n",
    "  # BUT: Approximate gradient updates occasionally give unreliable direction\n",
    "  # resulting in fluctuating loss (rather than strictly decreasing loss)\n",
    "  ixs = torch.randint(0, Xtr.shape[0], (BATCH_SIZE,))\n",
    "\n",
    "  # forward pass\n",
    "  emb = C[Xtr[ixs]]  # (32, 3, 2)\n",
    "  x1 = rearrange(emb, \"ix c f -> ix (c f)\")  # (32, 6)\n",
    "  h = torch.tanh(x1 @ W1 + b1)\n",
    "  logits = h @ W2 + b2\n",
    "  # torch is MUCH more efficient and better behaved for overflows\n",
    "  loss = F.cross_entropy(logits, Ytr[ixs])\n",
    "  # print(loss.item())\n",
    "\n",
    "  # backward pass\n",
    "  for p in parameters:\n",
    "    p.grad = None\n",
    "  loss.backward()\n",
    "\n",
    "  # update\n",
    "  # lr = lrs[i]\n",
    "  # lr = LR\n",
    "  lr = 0.001\n",
    "  for p in parameters:\n",
    "    # p.data += -lr * p.grad\n",
    "    p.data += -lr * p.grad\n",
    "\n",
    "  # track state\n",
    "  # append either `lr` or `lre[i]`. I put `i` cos I want a loss graph\n",
    "  lri.append(i)\n",
    "  lossi.append(loss.log10().item())"
   ]
  },
  {
   "cell_type": "code",
   "execution_count": 271,
   "id": "3e112ddb",
   "metadata": {},
   "outputs": [
    {
     "name": "stdout",
     "output_type": "stream",
     "text": [
      "2.2213499551675073\n"
     ]
    },
    {
     "data": {
      "image/png": "[encoded data removed]",
      "text/plain": [
       "<Figure size 640x480 with 1 Axes>"
      ]
     },
     "metadata": {},
     "output_type": "display_data"
    }
   ],
   "source": [
    "plt.plot(lri, lossi)\n",
    "print(10**lossi[-1])"
   ]
  },
  {
   "cell_type": "code",
   "execution_count": 273,
   "id": "52ecb49d",
   "metadata": {},
   "outputs": [
    {
     "name": "stdout",
     "output_type": "stream",
     "text": [
      "Train loss: 2.128936767578125\n",
      "Dev loss: 2.1656455993652344\n"
     ]
    }
   ],
   "source": [
    "def forward_pass(X, Y):\n",
    "  emb = C[X]  # (32, 3, 2)\n",
    "  x1 = rearrange(emb, \"ix c f -> ix (c f)\")  # (32, 6)\n",
    "  h = torch.tanh(x1 @ W1 + b1)\n",
    "  logits = h @ W2 + b2\n",
    "  # torch is MUCH more efficient and better behaved for overflows\n",
    "  loss = F.cross_entropy(logits, Y)\n",
    "  return loss.item()\n",
    "\n",
    "print(\"Train loss:\", forward_pass(Xtr, Ytr)) # Video, try beat: 2.1260\n",
    "print(\"Dev loss:\", forward_pass(Xdev, Ydev)) # Video, try beat: 2.1701\n",
    "\n",
    "# RESULTS:\n",
    "# Train loss: 2.128936767578125\n",
    "# Dev loss: 2.1656455993652344\n",
    "# Method: Train for roughly 30-50k \"epochs\" at a time. Manually decreasing learning rate starting from 0.1, then 0.01, then 0.001\n",
    "# Configuration left at CONTEXT_LEN = 3, N_FEATURES = 10, N_HIDDEN = 200"
   ]
  },
  {
   "cell_type": "code",
   "execution_count": 245,
   "id": "efd97a12",
   "metadata": {},
   "outputs": [
    {
     "data": {
      "image/png": "[encoded data removed]",
      "text/plain": [
       "<Figure size 800x800 with 1 Axes>"
      ]
     },
     "metadata": {},
     "output_type": "display_data"
    }
   ],
   "source": [
    "plt.figure(figsize=(8, 8))\n",
    "plt.scatter(C[:,0].data, C[:, 1].data, s=200)\n",
    "for i in range(C.shape[0]):\n",
    "  plt.text(C[i, 0].item(), C[i, 1].item(), itos[i],\n",
    "           ha=\"center\", va=\"center\", color=\"white\")\n",
    "plt.grid(\"minor\")"
   ]
  },
  {
   "cell_type": "code",
   "execution_count": 252,
   "id": "fb8b9a8f",
   "metadata": {},
   "outputs": [
    {
     "name": "stdout",
     "output_type": "stream",
     "text": [
      "ming.\n",
      "hacferd.\n",
      "kyrilostadi.\n",
      "malkoshaivinlyn.\n",
      "halee.\n",
      "aviy.\n",
      "gieighttene.\n",
      "matiaisingianiley.\n",
      "juliife.\n",
      "elaydynn.\n",
      "relle.\n",
      "lilyn.\n",
      "ali.\n",
      "loleighyni.\n",
      "lascut.\n",
      "pemier.\n",
      "adix.\n",
      "kaelymaryamiie.\n",
      "amr.\n",
      "acomruniy.\n"
     ]
    }
   ],
   "source": [
    "generator = torch.Generator().manual_seed(SEED)\n",
    "x = \"...\"\n",
    "\n",
    "# Wait, training for an obscene number of epochs made for a large reduction in gibberish even though the absolute difference in loss wasn't that much.\n",
    "# Seems like a small change in loss still makes a big difference\n",
    "\n",
    "for _ in range(20):\n",
    "  out = []\n",
    "  context = [0] * CONTEXT_LEN\n",
    "  while True:\n",
    "    # forward pass\n",
    "    emb = C[torch.tensor([context])]  # (CONTEXT_LEN, NUM_FEATURES)\n",
    "    x1 = rearrange(emb, \"ix c f -> ix (c f)\")  # (1, NUM_FEATURES)\n",
    "    h = torch.tanh(x1 @ W1 + b1)\n",
    "    logits = h @ W2 + b2\n",
    "\n",
    "    # predict\n",
    "    probs = F.softmax(logits, dim=1)\n",
    "    ix = torch.multinomial(probs, 1, True, generator=g).item()\n",
    "    context = context[1:] + [ix]\n",
    "    out.append(ix)\n",
    "    if (ix == 0):\n",
    "      break\n",
    "\n",
    "  print(\"\".join(itos[i] for i in out))"
   ]
  }
 ],
 "metadata": {
  "kernelspec": {
   "display_name": "venv10",
   "language": "python",
   "name": "python3"
  },
  "language_info": {
   "codemirror_mode": {
    "name": "ipython",
    "version": 3
   },
   "file_extension": ".py",
   "mimetype": "text/x-python",
   "name": "python",
   "nbconvert_exporter": "python",
   "pygments_lexer": "ipython3",
   "version": "3.10.18"
  }
 },
 "nbformat": 4,
 "nbformat_minor": 5
}
