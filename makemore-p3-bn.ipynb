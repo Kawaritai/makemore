{
 "cells": [
  {
   "cell_type": "markdown",
   "id": "8e8cb5fd",
   "metadata": {},
   "source": [
    "# Makemore Part 3 — Activations, Gradients, BatchNorm\n",
    "\n",
    "* The initialisation at the *0th iteration loss* is too high. You would expect that it should be a uniform starting distribution (across 27 categories)\n",
    "  * `-torch.log(torch.tensor(1/27)) >> 27.0`\n",
    "  * Having a loss that's too high is not an ideal starting point. Your model is confidently wrong\n",
    "* *Don't make weights zero*. \n",
    "  * A small amount of entropy is used for symmetry breaking. \n",
    "* *Activation functions with squashing tails* have a risk of getting dead neurons (when all activations are in squash regions, they shut the gradient valve off, and not a fun time)\n",
    "  * Possible caused by: bad **initialisation**, or bad **optimisation** (\"getting knocked off the data manifold; permanent brain damage\")\n",
    "* What the fuck is \"fan-in\"?\n",
    "  * Something attributable to a layer\n",
    "  * **Rule of thumb (Kaiming)**: Scale your weights by $gain/\\sqrt{\\text{fan-in}}$\n",
    "* **BatchNorm innovation**: You want your activations to be unit Gaussian? Okay, just do it lol\n",
    "  * Suddenly, the loss is also a function on what examples happened to accompany a minibatch. But this isn't a bad thing! This noise helps to regularise the neural net and lower overfitting. Although, it's not mathematically nice and people want to phase BN out :C. \n",
    "  * Hard to phase out. It stabilises training and works pretty well"
   ]
  },
  {
   "cell_type": "code",
   "execution_count": null,
   "id": "ad83d9ca",
   "metadata": {},
   "outputs": [
    {
     "data": {
      "text/plain": [
       "['emma',\n",
       " 'olivia',\n",
       " 'ava',\n",
       " 'isabella',\n",
       " 'sophia',\n",
       " 'charlotte',\n",
       " 'mia',\n",
       " 'amelia',\n",
       " 'harper',\n",
       " 'evelyn']"
      ]
     },
     "execution_count": 199,
     "metadata": {},
     "output_type": "execute_result"
    }
   ],
   "source": [
    "# Imports\n",
    "import torch\n",
    "import torch.nn.functional as F\n",
    "import random\n",
    "import matplotlib.pyplot as plt\n",
    "import seaborn as sns\n",
    "from einops import rearrange, reduce, repeat\n",
    "%matplotlib inline\n",
    "\n",
    "# Parameters\n",
    "FILENAME = \"names.txt\"\n",
    "CONTEXT_LEN = 3\n",
    "N_FEATURES = 10\n",
    "N_HIDDEN = 200\n",
    "DOT = \".\"\n",
    "SMOOTHING = 1\n",
    "SEED = 2147483647\n",
    "\n",
    "# Matrix visualisation helper\n",
    "def plot_mtx(mtx, title):\n",
    "  mtx = mtx.detach().numpy()\n",
    "  plt.title(f\"{title} {tuple(mtx.shape)}\")\n",
    "  plt.tick_params(top=True, bottom=False, labeltop=True, labelbottom=False)\n",
    "  sns.heatmap(mtx,\n",
    "              cmap=\"RdBu\",\n",
    "              cbar=False,\n",
    "              # xticklabels=[DOT] + chars,\n",
    "              linewidths=0.5,\n",
    "              linecolor=\"black\",\n",
    "              square=True)\n",
    "\n",
    "# Retrieve the data\n",
    "with open(FILENAME, \"r\") as f:\n",
    "  words = f.read().splitlines()\n",
    "\n",
    "words[:10]"
   ]
  },
  {
   "cell_type": "code",
   "execution_count": 200,
   "id": "4a65210c",
   "metadata": {},
   "outputs": [],
   "source": [
    "# Build vocabulary\n",
    "chars = sorted(list(set(\"\".join(words))))\n",
    "\n",
    "stoi = {s: i+1 for i, s in enumerate(chars)}\n",
    "stoi[DOT] = 0\n",
    "\n",
    "itos = dict(zip(stoi.values(), stoi.keys()))\n",
    "\n",
    "N_VOCAB = len(itos)\n",
    "vocab_size = N_VOCAB"
   ]
  },
  {
   "cell_type": "code",
   "execution_count": 201,
   "id": "d3c46e56",
   "metadata": {},
   "outputs": [
    {
     "name": "stdout",
     "output_type": "stream",
     "text": [
      "torch.Size([182625, 3]) torch.Size([182625])\n",
      "torch.Size([22655, 3]) torch.Size([22655])\n",
      "torch.Size([22866, 3]) torch.Size([22866])\n"
     ]
    }
   ],
   "source": [
    "# build the dataset\n",
    "block_size = 3 # context length: how many characters do we take to predict the next one?\n",
    "\n",
    "def build_dataset(words):  \n",
    "  X, Y = [], []\n",
    "  \n",
    "  for w in words:\n",
    "    context = [0] * block_size\n",
    "    for ch in w + '.':\n",
    "      ix = stoi[ch]\n",
    "      X.append(context)\n",
    "      Y.append(ix)\n",
    "      context = context[1:] + [ix] # crop and append\n",
    "\n",
    "  X = torch.tensor(X)\n",
    "  Y = torch.tensor(Y)\n",
    "  print(X.shape, Y.shape)\n",
    "  return X, Y\n",
    "\n",
    "random.seed(42)\n",
    "random.shuffle(words)\n",
    "n1 = int(0.8*len(words))\n",
    "n2 = int(0.9*len(words))\n",
    "\n",
    "Xtr,  Ytr  = build_dataset(words[:n1])     # 80%\n",
    "Xdev, Ydev = build_dataset(words[n1:n2])   # 10%\n",
    "Xte,  Yte  = build_dataset(words[n2:])     # 10%"
   ]
  },
  {
   "cell_type": "code",
   "execution_count": 202,
   "id": "830b8dcb",
   "metadata": {},
   "outputs": [
    {
     "name": "stdout",
     "output_type": "stream",
     "text": [
      "12097\n"
     ]
    }
   ],
   "source": [
    "# MLP revisited\n",
    "n_embd = N_FEATURES # the dimensionality of the character embedding vectors\n",
    "n_hidden = N_HIDDEN # the number of neurons in the hidden layer of the MLP\n",
    "\n",
    "g = torch.Generator().manual_seed(SEED) # for reproducibility\n",
    "C  = torch.randn((vocab_size, n_embd),            generator=g)\n",
    "W1 = torch.randn((n_embd * block_size, n_hidden), generator=g) * (5/3) / (n_embd*block_size)**0.5\n",
    "# b1 = torch.randn(n_hidden,                        generator=g) * 0.01\n",
    "W2 = torch.randn((n_hidden, vocab_size),          generator=g) * 0.01\n",
    "b2 = torch.randn(vocab_size,                      generator=g) * 0\n",
    "\n",
    "bngain = torch.ones((1, n_hidden))\n",
    "bnbias = torch.zeros((1, n_hidden))\n",
    "bnmean_running = torch.zeros((1, n_hidden))\n",
    "bnstd_running = torch.zeros((1, n_hidden))\n",
    "\n",
    "parameters = [C, W1, W2, b2, bngain, bnbias]\n",
    "print(sum(p.nelement() for p in parameters)) # number of parameters in total\n",
    "for p in parameters:\n",
    "  p.requires_grad = True"
   ]
  },
  {
   "cell_type": "code",
   "execution_count": 205,
   "id": "717d9b47",
   "metadata": {},
   "outputs": [
    {
     "name": "stdout",
     "output_type": "stream",
     "text": [
      "      0/ 200000: 3.3096\n",
      "  10000/ 200000: 2.4783\n",
      "  20000/ 200000: 1.9996\n",
      "  30000/ 200000: 2.5822\n",
      "  40000/ 200000: 2.0700\n",
      "  50000/ 200000: 2.3397\n",
      "  60000/ 200000: 2.4592\n",
      "  70000/ 200000: 2.5765\n",
      "  80000/ 200000: 2.0567\n",
      "  90000/ 200000: 2.1207\n",
      " 100000/ 200000: 2.1043\n",
      " 110000/ 200000: 2.0552\n",
      " 120000/ 200000: 2.2931\n",
      " 130000/ 200000: 2.5750\n",
      " 140000/ 200000: 2.1613\n",
      " 150000/ 200000: 2.0641\n",
      " 160000/ 200000: 1.9199\n",
      " 170000/ 200000: 2.3214\n",
      " 180000/ 200000: 2.0537\n",
      " 190000/ 200000: 1.9166\n"
     ]
    }
   ],
   "source": [
    "# same optimization as last time\n",
    "max_steps = 200000\n",
    "batch_size = 32\n",
    "lossi = []\n",
    "\n",
    "for i in range(max_steps):\n",
    "  \n",
    "  # minibatch construct\n",
    "  ix = torch.randint(0, Xtr.shape[0], (batch_size,), generator=g)\n",
    "  Xb, Yb = Xtr[ix], Ytr[ix] # batch X,Y\n",
    "  \n",
    "  # forward pass\n",
    "  emb = C[Xb]\n",
    "  embcat = rearrange(emb, \"ix c f -> ix (c f)\")\n",
    "  hpreact = embcat @ W1 + b1 # hidden layer pre-activation\n",
    "  bnmeani = hpreact.mean(0, keepdim=True)\n",
    "  bnstdi = hpreact.std(0, keepdim=True) + 1e-5\n",
    "  hpreact = bngain*(hpreact - bnmeani) / bnstdi + bnbias\n",
    "  h = torch.tanh(hpreact) # hidden layer\n",
    "  logits = h @ W2 + b2 # output layer\n",
    "  loss = F.cross_entropy(logits, Yb) # loss functions\n",
    "\n",
    "  with torch.no_grad():\n",
    "    bnmean_running = 0.999 * bnmean_running + 0.001 * bnmeani\n",
    "    bnstd_running = 0.999 * bnstd_running + 0.001 * bnstdi\n",
    "\n",
    "  # backward pass\n",
    "  for p in parameters:\n",
    "    p.grad = None\n",
    "  loss.backward()\n",
    "  \n",
    "  # update\n",
    "  lr = 0.1 if i < 100000 else 0.01 # step learning rate decay\n",
    "  for p in parameters:\n",
    "    p.data += -lr * p.grad\n",
    "\n",
    "  # track stats\n",
    "  if i % 10000 == 0: # print every once in a while\n",
    "    print(f'{i:7d}/{max_steps:7d}: {loss.item():.4f}')\n",
    "  lossi.append(loss.log10().item())"
   ]
  },
  {
   "cell_type": "code",
   "execution_count": 207,
   "id": "7dff6717",
   "metadata": {},
   "outputs": [
    {
     "data": {
      "image/png": "[encoded data removed]",
      "text/plain": [
       "<Figure size 640x480 with 1 Axes>"
      ]
     },
     "metadata": {},
     "output_type": "display_data"
    }
   ],
   "source": [
    "xs = torch.linspace(-15, 15, 1000)\n",
    "# plt.axhline(200, linestyle=\"--\")\n",
    "# plt.plot(xs, 200 + torch.tanh(xs) * 200)\n",
    "plt.hist(rearrange(hpreact, \"n a -> (n a)\").tolist(), 50);\n",
    "plt.show()"
   ]
  },
  {
   "cell_type": "code",
   "execution_count": 208,
   "id": "ae50a528",
   "metadata": {},
   "outputs": [
    {
     "data": {
      "image/png": "[encoded data removed]",
      "text/plain": [
       "<Figure size 640x480 with 1 Axes>"
      ]
     },
     "metadata": {},
     "output_type": "display_data"
    }
   ],
   "source": [
    "plt.hist(rearrange(h, \"n a -> (n a)\").tolist(), 50);"
   ]
  },
  {
   "cell_type": "code",
   "execution_count": 209,
   "id": "b76f6f5c",
   "metadata": {},
   "outputs": [
    {
     "data": {
      "image/png": "[encoded data removed]",
      "text/plain": [
       "<Figure size 640x480 with 1 Axes>"
      ]
     },
     "metadata": {},
     "output_type": "display_data"
    }
   ],
   "source": [
    "plt.plot(lossi);"
   ]
  },
  {
   "cell_type": "code",
   "execution_count": 210,
   "id": "68988b31",
   "metadata": {},
   "outputs": [],
   "source": [
    "# calibrate the batch norm at the end of the training\n",
    "\n",
    "with torch.no_grad():\n",
    "    emb = C[Xtr]\n",
    "    embcat = emb.view(emb.shape[0], -1)\n",
    "    hpreact = embcat @ W1\n",
    "    bnmean = hpreact.mean(0, keepdim=True)\n",
    "    bnstd = hpreact.std(0, keepdim=True)"
   ]
  },
  {
   "cell_type": "code",
   "execution_count": 211,
   "id": "ea6d9cae",
   "metadata": {},
   "outputs": [
    {
     "name": "stdout",
     "output_type": "stream",
     "text": [
      "train 2.0671908855438232\n",
      "val 2.106106996536255\n"
     ]
    }
   ],
   "source": [
    "@torch.no_grad() # this decorator disables gradient tracking\n",
    "def split_loss(split):\n",
    "  x,y = {\n",
    "    'train': (Xtr, Ytr),\n",
    "    'val': (Xdev, Ydev),\n",
    "    'test': (Xte, Yte),\n",
    "  }[split]\n",
    "  emb = C[x] # (N, block_size, n_embd)\n",
    "  embcat = emb.view(emb.shape[0], -1) # concat into (N, block_size * n_embd)\n",
    "  hpreact = embcat @ W1 # + b1\n",
    "  # hpreact = bngain * (hpreact - bnmean) / bnstd + bnbias\n",
    "  hpreact = bngain * (hpreact - bnmean_running) / bnstd_running + bnbias\n",
    "  h = torch.tanh(hpreact) # (N, n_hidden)\n",
    "  logits = h @ W2 + b2 # (N, vocab_size)\n",
    "  loss = F.cross_entropy(logits, y)\n",
    "  print(split, loss.item())\n",
    "\n",
    "split_loss('train')\n",
    "split_loss('val')"
   ]
  },
  {
   "cell_type": "code",
   "execution_count": 218,
   "id": "64efc2c7",
   "metadata": {},
   "outputs": [
    {
     "name": "stdout",
     "output_type": "stream",
     "text": [
      "carlah.\n",
      "amorie.\n",
      "khi.\n",
      "mri.\n",
      "reity.\n",
      "salaysie.\n",
      "mahnen.\n",
      "delynn.\n",
      "jareei.\n",
      "ner.\n",
      "kiah.\n",
      "maiivia.\n",
      "leigh.\n",
      "ham.\n",
      "joce.\n",
      "quint.\n",
      "salin.\n",
      "alianni.\n",
      "wate.\n",
      "madiaryn.\n"
     ]
    }
   ],
   "source": [
    "# sample from the model\n",
    "g = torch.Generator().manual_seed(2147483647 + 10)\n",
    "\n",
    "for _ in range(20):\n",
    "    \n",
    "    out = []\n",
    "    context = [0] * block_size # initialize with all ...\n",
    "    while True:\n",
    "      # forward pass the neural net\n",
    "      emb = C[torch.tensor([context])]\n",
    "      embcat = rearrange(emb, \"ix c f -> ix (c f)\")\n",
    "      hpreact = embcat @ W1 # + b1\n",
    "      hpreact = bngain * (hpreact - bnmean_running) / bnstd_running + bnbias\n",
    "      h = torch.tanh(hpreact) # (N, n_hidden)\n",
    "      logits = h @ W2 + b2 # (N, vocab_size)\n",
    "      probs = F.softmax(logits, dim=1)\n",
    "      # sample from the distribution\n",
    "      ix = torch.multinomial(probs, num_samples=1, generator=g).item()\n",
    "      # shift the context window and track the samples\n",
    "      context = context[1:] + [ix]\n",
    "      out.append(ix)\n",
    "      # if we sample the special '.' token, break\n",
    "      if ix == 0:\n",
    "        break\n",
    "    \n",
    "    print(''.join(itos[i] for i in out)) # decode and print the generated word\n",
    "\n"
   ]
  }
 ],
 "metadata": {
  "kernelspec": {
   "display_name": "venv",
   "language": "python",
   "name": "python3"
  },
  "language_info": {
   "codemirror_mode": {
    "name": "ipython",
    "version": 3
   },
   "file_extension": ".py",
   "mimetype": "text/x-python",
   "name": "python",
   "nbconvert_exporter": "python",
   "pygments_lexer": "ipython3",
   "version": "3.10.18"
  }
 },
 "nbformat": 4,
 "nbformat_minor": 5
}
